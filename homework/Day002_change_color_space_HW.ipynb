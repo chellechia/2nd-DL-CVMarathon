{
 "cells": [
  {
   "cell_type": "code",
   "execution_count": 17,
   "metadata": {},
   "outputs": [],
   "source": [
    "import cv2\n",
    "import numpy as np\n",
    "img_path = 'data/lena.png'\n",
    "img = cv2.imread(img_path, cv2.IMREAD_COLOR)\n",
    "BGR2HSV = cv2.cvtColor(img,cv2.COLOR_BGR2HSV)\n",
    "BGR2HLS = cv2.cvtColor(img,cv2.COLOR_BGR2HLS)\n",
    "BGR2LAB = cv2.cvtColor(img,cv2.COLOR_BGR2LAB)\n",
    "cv2.imshow('RGB',img)\n",
    "cv2.imshow('HSV',BGR2HSV)\n",
    "cv2.imshow('HSL',BGR2HLS)\n",
    "cv2.imshow('LAB',BGR2LAB)\n",
    "cv2.waitKey(0)\n",
    "cv2.destroyAllWindows()"
   ]
  }
 ],
 "metadata": {
  "kernelspec": {
   "display_name": "Python 3",
   "language": "python",
   "name": "python3"
  },
  "language_info": {
   "codemirror_mode": {
    "name": "ipython",
    "version": 3
   },
   "file_extension": ".py",
   "mimetype": "text/x-python",
   "name": "python",
   "nbconvert_exporter": "python",
   "pygments_lexer": "ipython3",
   "version": "3.7.4"
  }
 },
 "nbformat": 4,
 "nbformat_minor": 2
}
