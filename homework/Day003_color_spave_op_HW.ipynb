{
 "cells": [
  {
   "cell_type": "code",
   "execution_count": 1,
   "metadata": {},
   "outputs": [],
   "source": [
    "import cv2\n",
    "import numpy as np\n",
    "\n",
    "img_path = 'data/lena.png'\n",
    "img = cv2.imread(img_path, cv2.IMREAD_COLOR)"
   ]
  },
  {
   "cell_type": "code",
   "execution_count": 2,
   "metadata": {},
   "outputs": [],
   "source": [
    "## 改變飽和度\n",
    "\n",
    "# RGB to HSV \n",
    "img_hsv = cv2.cvtColor(img, cv2.COLOR_BGR2HSV)\n",
    "img_hsv_down = img_hsv.astype('float32')\n",
    "img_hsv_up = img_hsv.astype('float32')\n",
    "\n",
    "# 減少飽和度\n",
    "img_hsv_down[...,1] = img_hsv_down[...,1]/255-0.2\n",
    "img_hsv_down[img_hsv_down[...,1] < 0] = 0\n",
    "img_hsv_down[...,1] = img_hsv_down[...,1]*255\n",
    "img_hsv_down = img_hsv_down.astype('uint8')\n",
    "\n",
    "# 增加飽和度\n",
    "img_hsv_up[...,1] = img_hsv_up[...,1]/255+0.2\n",
    "img_hsv_up[img_hsv_up[...,1] > 1] = 1\n",
    "img_hsv_up[...,1] = img_hsv_up[...,1]*255\n",
    "img_hsv_up = img_hsv_up.astype('uint8')\n",
    "\n",
    "# 轉換回 RGB\n",
    "img_hsv2bgr_down = cv2.cvtColor(img_hsv_down, cv2.COLOR_HSV2BGR)\n",
    "img_hsv2bgr_up = cv2.cvtColor(img_hsv_up, cv2.COLOR_HSV2BGR)\n",
    "\n",
    "# 組合圖片\n",
    "img_c = np.hstack((img, img_hsv2bgr_down, img_hsv2bgr_up))\n",
    "\n",
    "while True:\n",
    "    cv2.imshow('img_down_up',img_c)\n",
    "    \n",
    "    k = cv2.waitKey(0)\n",
    "    if k == 27:\n",
    "        cv2.destroyAllWindows()\n",
    "        break"
   ]
  },
  {
   "cell_type": "code",
   "execution_count": 25,
   "metadata": {},
   "outputs": [],
   "source": [
    "## 實作直方圖均衡\n",
    "# case1: 對 RGB 每個 channel 做直方圖均衡\n",
    "img = cv2.imread(img_path, cv2.IMREAD_COLOR)\n",
    "c1 = cv2.equalizeHist(img[...,0])\n",
    "c2 = cv2.equalizeHist(img[...,1])\n",
    "c3 = cv2.equalizeHist(img[...,2])\n",
    "rgb3_equal = cv2.merge((c1,c2,c3))\n",
    "\n",
    "# case2: 轉到 HSV 對明亮度做直⽅方圖均衡\n",
    "img_hsv = cv2.cvtColor(img, cv2.COLOR_BGR2HSV)\n",
    "img_hsv[...,2] = cv2.equalizeHist(img_hsv[...,2])\n",
    "rgb2hsv_equal = cv2.cvtColor(img_hsv, cv2.COLOR_HSV2BGR)\n",
    "\n",
    "# 組合圖片\n",
    "img_c = np.hstack((img, rgb3_equal, rgb2hsv_equal))\n",
    "\n",
    "while True:\n",
    "    cv2.imshow('img_rgb3_rgb2hsv',img_c)\n",
    "    k = cv2.waitKey(0)\n",
    "    if k == 27:\n",
    "        cv2.destroyAllWindows()\n",
    "        break"
   ]
  },
  {
   "cell_type": "code",
   "execution_count": 45,
   "metadata": {},
   "outputs": [],
   "source": [
    "## alpha/ beta 調整對比 / 明亮\n",
    "# alpha=2.0, beta= 0\n",
    "add_contrast = cv2.imread(img_path, cv2.IMREAD_COLOR)\n",
    "alpha = 2.0\n",
    "beta = 0\n",
    "for b in range(img.shape[0]):\n",
    "    for g in range(img.shape[1]):\n",
    "        for r in range(img.shape[2]):\n",
    "            add_contrast[b,g,r] = np.clip(alpha*add_contrast[b,g,r]+beta, 0, 255)\n",
    "            \n",
    "# alpha=1.0, beta= 50   \n",
    "img = cv2.imread(img_path, cv2.IMREAD_COLOR)\n",
    "add_lightness = cv2.convertScaleAbs(img, alpha=1.0, beta=50)\n",
    "\n",
    "# 組合圖片\n",
    "img_c = np.hstack((img, add_contrast, add_lightness))\n",
    "while True:\n",
    "    cv2.imshow('img_contrast_lightness', img_c)\n",
    "    k = cv2.waitKey(0)\n",
    "    if k == 27:\n",
    "        cv2.destroyAllWindows()\n",
    "        break"
   ]
  }
 ],
 "metadata": {
  "kernelspec": {
   "display_name": "Python 3",
   "language": "python",
   "name": "python3"
  },
  "language_info": {
   "codemirror_mode": {
    "name": "ipython",
    "version": 3
   },
   "file_extension": ".py",
   "mimetype": "text/x-python",
   "name": "python",
   "nbconvert_exporter": "python",
   "pygments_lexer": "ipython3",
   "version": "3.7.4"
  }
 },
 "nbformat": 4,
 "nbformat_minor": 2
}
